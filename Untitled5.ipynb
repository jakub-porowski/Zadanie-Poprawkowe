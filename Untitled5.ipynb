{
  "nbformat": 4,
  "nbformat_minor": 0,
  "metadata": {
    "colab": {
      "name": "Untitled5.ipynb",
      "provenance": [],
      "collapsed_sections": [],
      "authorship_tag": "ABX9TyPRDCTUhqQ5cYzsnen8R2VP",
      "include_colab_link": true
    },
    "kernelspec": {
      "name": "python3",
      "display_name": "Python 3"
    },
    "accelerator": "GPU"
  },
  "cells": [
    {
      "cell_type": "markdown",
      "metadata": {
        "id": "view-in-github",
        "colab_type": "text"
      },
      "source": [
        "<a href=\"https://colab.research.google.com/github/jakub-porowski/Zadanie-Poprawkowe/blob/workspace/Untitled5.ipynb\" target=\"_parent\"><img src=\"https://colab.research.google.com/assets/colab-badge.svg\" alt=\"Open In Colab\"/></a>"
      ]
    },
    {
      "cell_type": "markdown",
      "metadata": {
        "id": "L5E1Z364Q4E_"
      },
      "source": [
        "# **Import bibliotek i bazy danych**"
      ]
    },
    {
      "cell_type": "code",
      "metadata": {
        "id": "T5lfu4JnXtv3"
      },
      "source": [
        "def Import():\n",
        "    import matplotlib.pyplot as plt\n",
        "    import numpy as np\n",
        "    import pandas as pd\n",
        "    import seaborn as sns\n",
        "    from scipy import stats\n",
        "    from sklearn import preprocessing\n",
        "    from sklearn.linear_model import LinearRegression\n",
        "    url = 'https://raw.githubusercontent.com/jakub-porowski/Zadanie-Poprawkowe/main/Sacramento_real_estate_transactions.csv'\n",
        "    df = pd.read_csv(url, error_bad_lines=False )\n",
        "    %load_ext google.colab.data_table\n",
        "    # %unload_ext google.colab.data_table"
      ],
      "execution_count": null,
      "outputs": []
    },
    {
      "cell_type": "markdown",
      "metadata": {
        "id": "FO9w_QYlRRuh"
      },
      "source": [
        "# **Eksploracja, analiza danych**"
      ]
    },
    {
      "cell_type": "code",
      "metadata": {
        "id": "HtX3cH-ubbYp"
      },
      "source": [
        "for i in df[[\"city\",\"state\",\"type\"]]:\n",
        "    y = df[i].unique()\n",
        "    for x in y:\n",
        "        print(x, len(df[df[i] == x]))"
      ],
      "execution_count": null,
      "outputs": []
    },
    {
      "cell_type": "markdown",
      "metadata": {
        "id": "JLij5QwdN3FG"
      },
      "source": [
        "# **Usuwanie outlierów ,normalizacja, usuwanie wybrakowanych rekordów, encoding**"
      ]
    },
    {
      "cell_type": "code",
      "metadata": {
        "id": "7lM0ZIfGHJhD"
      },
      "source": [
        "Outliers = df[[\"beds\",\"baths\",\"sq__ft\",\"price\"]]\n",
        "Outliers = Outliers[(np.abs(stats.zscore(Outliers)) < 3).all(axis=1)]\n",
        "\n",
        "ToNormalize = df[[\"sq__ft\",\"price\"]]\n",
        "Normalized = preprocessing.Normalize(ToNormalize)\n",
        "print(\"Normalized Data = \", Normalized)\n",
        "ToJoin = pd.DataFrame(columns =[\"sq__ft\",\"price\"], data = Normalized)\n",
        "df[[\"sq__ft\",\"price\"]]=ToJoin\n",
        "\n",
        "Data=df.dropna()\n",
        "Data\n",
        "\n",
        "# encode city type longitude latitude\n",
        "# https://datascience.stackexchange.com/questions/23651/can-gps-coordinates-latitude-and-longitude-be-used-as-features-in-a-linear-mod\n",
        "# https://scikit-learn.org/stable/modules/generated/sklearn.cluster.KMeans.html to cluster long/lati --> Onehot, city/type odrazu onehot\n",
        "# https://public.tableau.com/profile/jakub3556#!/vizhome/ZadaniePoprawkowe1/Sheet3?publish=yes\n"
      ],
      "execution_count": null,
      "outputs": []
    },
    {
      "cell_type": "markdown",
      "metadata": {
        "id": "Wd_dhV6mRkk8"
      },
      "source": [
        "# **Regresja z wykorzystaniem modeli ML**"
      ]
    }
  ]
}